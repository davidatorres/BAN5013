{
    "metadata": {
        "kernelspec": {
            "name": "SQL",
            "display_name": "SQL",
            "language": "sql"
        },
        "language_info": {
            "name": "sql",
            "version": ""
        }
    },
    "nbformat_minor": 2,
    "nbformat": 4,
    "cells": [
        {
            "cell_type": "markdown",
            "source": [
                "# Lab 00 - Class Setup\n",
                "\n",
                "A. Login to Azure Virtual Desktop - [https://tiny.cc/ban5013](https://tiny.cc/ban5013)
                "B Clone GitHub\n",
                "B. Launch Azure Data Studio\n",
                "\n",
                "C.. Enter \"[https://github.com/davidatorres/ban5013\"](https:\\github.com\\davidatorres\\ban5013&quot;) repo URL ![Git Repo](https://ban5013st.blob.core.windows.net/images/Lab01-01a.png)\n",
                "* * *\n",
                "C. Create database connections\n",
                "1. Click \"Connections\" section\n",
                "2. Click \"New Connection\" icon\n",
                "3. Enter database server name \"ban5013sql.database.windows.net\"\n",
                "D. Select database \"AdventureorksLT\"\n",
                "7. Enter name \"AWLT\" Repeat for the \"master\" and \"AdventureWorks\" databases ![Connect to database](https://ban5013st.blob.core.windows.net/images/Lab01-02a.png)"
            ],
            "metadata": {
                "azdata_cell_guid": "2288babb-92f8-4182-8ab7-d7ae56c957e7"\n",
                "4. Select SQL Login
            },
            "attachments": 5asswordu\"dent\"
        }
    ]\n",
                "\n",
                "[Setup Video](https://ban5013st.blob.core.windows.net/videos/setup.mp4)
}