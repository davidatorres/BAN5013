{
    "metadata": {
        "kernelspec": {
            "name": "SQL",
            "display_name": "SQL",
            "language": "sql"
        },
        "language_info": {
            "name": "sql",
            "version": ""
        }
    },
    "nbformat_minor": 2,
    "nbformat": 4,
    "cells": [
        {
            "cell_type": "markdown",
            "source": [
                "# Lab 01 - Setup Azure Data Studio\n",
                "\n",
                "1. Download Azure Data Studio - [https://aka.ms/azds](https://aka.ms/azds)\n",
                "      \n",
                "    \n",
                "2. Clone GitHub - [https://github.com/davidatorres/ban5013](https://github.com/davidatorres/ban5013)\n",
                "![](https://ban5013st.blob.core.windows.net/images/Lab01-01.png)\n",
                "    \n",
                "3. Create database connections\n",
                "![Connect to database](https://ban5013st.blob.core.windows.net/images/Lab01-01.png)\n",
                "\n",
                "\n",
                ""
            ],
            "metadata": {
                "azdata_cell_guid": "2288babb-92f8-4182-8ab7-d7ae56c957e7"
            },
            "attachments": {}
        }
    ]
}