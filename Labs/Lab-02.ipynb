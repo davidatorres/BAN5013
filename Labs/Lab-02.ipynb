{
    "cells": [
        {
            "cell_type": "markdown",
            "metadata": {
                "azdata_cell_guid": "8186a696-5d94-4538-bc6a-3a580621306d"
            },
            "source": [
                "## Lab 02 - T-SQL Queries\n",
                "\n",
                "- Open Azure Data Studio applicaiton\n",
                "- Open Lab-02.ipynb notebook\n",
                "- Attach to AdventureWorksLT database\n",
                "- Follow instructions to perform T-SQL queries"
            ]
        },
        {
            "cell_type": "markdown",
            "metadata": {
                "azdata_cell_guid": "5d5c9d16-9b88-4c49-a54a-b658b49f4ab2"
            },
            "source": [
                "----\n",
                "A. Query All Columns\n",
                "1. Add a code cell\n",
                "2. Write a query that returns all rows from the SalesLT.Product table"
            ]
        },
        {
            "cell_type": "markdown",
            "metadata": {
                "azdata_cell_guid": "f5b7cc7c-df8a-4342-b69e-9c544093cdd5"
            },
            "source": [
                "----\n",
                "B. Query Specific Columns\n",
                "1. Add a code cell\n",
                "2. Write a query that returns the Product ID, Name, List Price, and Product Category ID columns from Product table"
            ]
        },
        {
            "cell_type": "markdown",
            "metadata": {},
            "source": [
                "----\n",
                "C. Query With Join\n",
                "1. Add a code cell\n",
                "2. Write a query that returns Product ID, Product Name, Category Name, and List Price from the Product and Category table"
            ]
        }
    ],
    "metadata": {
        "kernelspec": {
            "display_name": "SQL",
            "language": "sql",
            "name": "SQL"
        },
        "language_info": {
            "name": "sql",
            "version": ""
        },
        "orig_nbformat": 4
    },
    "nbformat": 4,
    "nbformat_minor": 2
}
