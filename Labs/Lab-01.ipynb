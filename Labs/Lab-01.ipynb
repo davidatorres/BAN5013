{
    "cells": [
        {
            "attachments": {},
            "cell_type": "markdown",
            "metadata": {
                "azdata_cell_guid": "2288babb-92f8-4182-8ab7-d7ae56c957e7"
            },
            "source": [
                "# Lab 01 - Setup Azure Data Studio\n",
                "----\n",
                "A. Download Azure Data Studio - [https://aka.ms/azds](https://aka.ms/azds)\n",
                "      \n",
                "----\n",
                "B. Clone GitHub\n",
                "1. Click \"Source Control\" section\n",
                "2. Click \"Clone Repository\" button\n",
                "3. Enter \"https://github.com/davidatorres/ban5013\" repo URL\n",
                "![Git Repo](https://ban5013st.blob.core.windows.net/images/Lab01-01.png)\n",
                "\n",
                "----  \n",
                "C. Create database connections\n",
                "1. Click \"Connections\" section\n",
                "2. Click \"New Connection\" icon\n",
                "3. Enter database server name \"ban{student-id}.database.windows.net\"\n",
                "4. Enter admin username \"ban5013\"\n",
                "5. Enter admin password \"ban@{student-id}\"\n",
                "6. Select database \"AdventureWorksLT\"\n",
                "7. Enter name \"AdventureWorksLT\"\n",
                "\n",
                "Repeat for the \"master\" and \"AdventureWorks\" databases\n",
                "\n",
                "![Connect to database](https://ban5013st.blob.core.windows.net/images/Lab01-02a.png)\n"
            ]
        }
    ],
    "metadata": {
        "kernelspec": {
            "display_name": "SQL",
            "language": "sql",
            "name": "SQL"
        },
        "language_info": {
            "name": "sql",
            "version": ""
        }
    },
    "nbformat": 4,
    "nbformat_minor": 2
}
